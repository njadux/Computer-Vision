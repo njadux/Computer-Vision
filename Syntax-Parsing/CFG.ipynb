{
  "nbformat": 4,
  "nbformat_minor": 0,
  "metadata": {
    "colab": {
      "provenance": [],
      "authorship_tag": "ABX9TyMIMRhIv57TNOiE/6zGf7Ru",
      "include_colab_link": true
    },
    "kernelspec": {
      "name": "python3",
      "display_name": "Python 3"
    },
    "language_info": {
      "name": "python"
    }
  },
  "cells": [
    {
      "cell_type": "markdown",
      "metadata": {
        "id": "view-in-github",
        "colab_type": "text"
      },
      "source": [
        "<a href=\"https://colab.research.google.com/github/njadux/Computer-Vision/blob/Functionality-Based/CFG.ipynb\" target=\"_parent\"><img src=\"https://colab.research.google.com/assets/colab-badge.svg\" alt=\"Open In Colab\"/></a>"
      ]
    },
    {
      "cell_type": "code",
      "execution_count": null,
      "metadata": {
        "id": "rjP52UeRA1es"
      },
      "outputs": [],
      "source": [
        "import nltk"
      ]
    },
    {
      "cell_type": "code",
      "source": [
        "grammer = nltk.CFG.fromstring(\n",
        "    \"\"\"\n",
        "    S -> NP VP\n",
        "    VP -> V | V NP\n",
        "    NP -> D N | N\n",
        "    D -> 'the' | 'a' | 'in the' | 'on the' | 'and' |  'in' | 'on'\n",
        "    N -> 'cat' | 'dog' | 'bird' | 'city' | 'tree' | 'pool'\n",
        "    V -> 'chased' | 'saw' | 'walked' | 'swims' | 'meow' | 'swim'\n",
        "    \"\"\"\n",
        ")"
      ],
      "metadata": {
        "id": "kjAd_kXZBsjS"
      },
      "execution_count": null,
      "outputs": []
    },
    {
      "cell_type": "code",
      "source": [
        "#PARSE GRAMMER AND SAVE IT\n",
        "\n",
        "parser= nltk.ChartParser(grammer)"
      ],
      "metadata": {
        "id": "9HeWQOU0CL7x"
      },
      "execution_count": null,
      "outputs": []
    },
    {
      "cell_type": "code",
      "source": [
        "grammer = nltk.CFG.fromstring(\n",
        "    \"\"\"\n",
        "    S -> NP VP\n",
        "    VP -> V | V NP\n",
        "    NP -> D N | N\n",
        "    D -> 'the' | 'a' | 'in the' | 'on the' | 'and' |  'in' | 'on'\n",
        "    N -> 'cat' | 'dog' | 'bird' | 'city' | 'tree' | 'pool'\n",
        "    V -> 'chased' | 'saw' | 'walked' | 'swims' | 'meow' | 'swim'\n",
        "    \"\"\"\n",
        ")\n",
        "parser= nltk.ChartParser(grammer)\n",
        "#ask user for input\n",
        "#SPLIT to get each of all individual words\n",
        "sentence = input(\"Enter a sentence: \").split()\n",
        "try:\n",
        "  for tree in parser.parse(sentence):\n",
        "    tree.pretty_print()\n",
        "    #+tree.draw() - function in NLTK attempts to open a new window to display the parse tree visually, which relies on Tkinter and thus a display server.\n",
        "except ValueError:\n",
        "  print(\"Invalid input\")"
      ],
      "metadata": {
        "colab": {
          "base_uri": "https://localhost:8080/"
        },
        "id": "zL0ROePdCgHH",
        "outputId": "1cd8be2c-c43f-463b-d05f-b540b604dd7d"
      },
      "execution_count": null,
      "outputs": [
        {
          "output_type": "stream",
          "name": "stdout",
          "text": [
            "Enter a sentence: a dog swims in pool\n",
            "              S               \n",
            "      ________|____            \n",
            "     |             VP         \n",
            "     |         ____|___        \n",
            "     NP       |        NP     \n",
            "  ___|___     |     ___|___    \n",
            " D       N    V    D       N  \n",
            " |       |    |    |       |   \n",
            " a      dog swims  in     pool\n",
            "\n"
          ]
        }
      ]
    }
  ]
}