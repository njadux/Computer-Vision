{
  "nbformat": 4,
  "nbformat_minor": 0,
  "metadata": {
    "colab": {
      "provenance": [],
      "authorship_tag": "ABX9TyN6k62tGjnnjUuXIyvmKig7",
      "include_colab_link": true
    },
    "kernelspec": {
      "name": "python3",
      "display_name": "Python 3"
    },
    "language_info": {
      "name": "python"
    }
  },
  "cells": [
    {
      "cell_type": "markdown",
      "metadata": {
        "id": "view-in-github",
        "colab_type": "text"
      },
      "source": [
        "<a href=\"https://colab.research.google.com/github/njadux/Computer-Vision/blob/Image-Classification/Fashion_MNIST_Classifier.ipynb\" target=\"_parent\"><img src=\"https://colab.research.google.com/assets/colab-badge.svg\" alt=\"Open In Colab\"/></a>"
      ]
    },
    {
      "cell_type": "markdown",
      "source": [
        "The main goal of this project is to effectively classify images into different categories while incorporating early stopping to optimize training and prevent overfitting. It demonstrates the use of custom callbacks in TensorFlow/Keras for controlling the training process."
      ],
      "metadata": {
        "id": "KeSPDSLc-Jjh"
      }
    },
    {
      "cell_type": "markdown",
      "source": [
        "\n",
        "\n",
        "> Goal: Classify images from the Fashion MNIST dataset into categories while using early stopping to avoid overfitting and optimize training.\n",
        "\n",
        "\n",
        "> Dataset: Fashion MNIST, consisting of 60,000 training images and 10,000 test images, with each image being a 28x28 grayscale picture of various fashion items.\n",
        "\n",
        "\n",
        "\n"
      ],
      "metadata": {
        "id": "15eLmyzUVNCl"
      }
    },
    {
      "cell_type": "markdown",
      "source": [
        "Fashion datasets is a collection of grayscale 28x28"
      ],
      "metadata": {
        "id": "cr7Uv6GHbnn6"
      }
    },
    {
      "cell_type": "code",
      "execution_count": 72,
      "metadata": {
        "id": "qRQFErhRbeM1"
      },
      "outputs": [],
      "source": [
        "import numpy as np\n",
        "import tensorflow as tf\n",
        "import matplotlib.pyplot as plt\n",
        "from tensorflow import keras"
      ]
    },
    {
      "cell_type": "markdown",
      "source": [
        "If we changed the epochs from 10 to 15 we will face the overfitting, to solve this we can pause the model training when accuracy reach 60"
      ],
      "metadata": {
        "id": "2pmyL1Pg7V9c"
      }
    },
    {
      "cell_type": "code",
      "source": [
        "class myCallback(tf.keras.callbacks.Callback):\n",
        "  def on_epoch_end(self, epoch, logs={}):\n",
        "    if (logs.get('accuracy')>= 0.6):\n",
        "      print(\"\\n Reached 60% accuracy so cancelling training!\")\n",
        "      self.model.stop_training = True"
      ],
      "metadata": {
        "id": "JtwRA31o7xCG"
      },
      "execution_count": 73,
      "outputs": []
    },
    {
      "cell_type": "code",
      "source": [
        "callbacks = [myCallback()]"
      ],
      "metadata": {
        "id": "AGeMRJZP9nSq"
      },
      "execution_count": 74,
      "outputs": []
    },
    {
      "cell_type": "markdown",
      "source": [
        "# Loading and visualizing data"
      ],
      "metadata": {
        "id": "wnUJI8yBLue_"
      }
    },
    {
      "cell_type": "markdown",
      "source": [
        "Load dataset"
      ],
      "metadata": {
        "id": "MzGSC7phcNhx"
      }
    },
    {
      "cell_type": "code",
      "source": [
        "fmnist = tf.keras.datasets.fashion_mnist"
      ],
      "metadata": {
        "id": "W0o3Q5sUcZIt"
      },
      "execution_count": 75,
      "outputs": []
    },
    {
      "cell_type": "markdown",
      "source": [
        "using load.data to train and test datasets"
      ],
      "metadata": {
        "id": "lhLczV3gcr6_"
      }
    },
    {
      "cell_type": "code",
      "source": [
        "(training_images, training_labels),(test_images, test_labels) = fmnist.load_data()"
      ],
      "metadata": {
        "id": "rO-90r7HcfBk",
        "colab": {
          "base_uri": "https://localhost:8080/"
        },
        "outputId": "6c517787-2e69-401f-8737-91affb3c9313"
      },
      "execution_count": 76,
      "outputs": [
        {
          "output_type": "stream",
          "name": "stdout",
          "text": [
            "Downloading data from https://storage.googleapis.com/tensorflow/tf-keras-datasets/train-labels-idx1-ubyte.gz\n",
            "\u001b[1m29515/29515\u001b[0m \u001b[32m━━━━━━━━━━━━━━━━━━━━\u001b[0m\u001b[37m\u001b[0m \u001b[1m0s\u001b[0m 0us/step\n",
            "Downloading data from https://storage.googleapis.com/tensorflow/tf-keras-datasets/train-images-idx3-ubyte.gz\n",
            "\u001b[1m26421880/26421880\u001b[0m \u001b[32m━━━━━━━━━━━━━━━━━━━━\u001b[0m\u001b[37m\u001b[0m \u001b[1m0s\u001b[0m 0us/step\n",
            "Downloading data from https://storage.googleapis.com/tensorflow/tf-keras-datasets/t10k-labels-idx1-ubyte.gz\n",
            "\u001b[1m5148/5148\u001b[0m \u001b[32m━━━━━━━━━━━━━━━━━━━━\u001b[0m\u001b[37m\u001b[0m \u001b[1m0s\u001b[0m 0us/step\n",
            "Downloading data from https://storage.googleapis.com/tensorflow/tf-keras-datasets/t10k-images-idx3-ubyte.gz\n",
            "\u001b[1m4422102/4422102\u001b[0m \u001b[32m━━━━━━━━━━━━━━━━━━━━\u001b[0m\u001b[37m\u001b[0m \u001b[1m0s\u001b[0m 0us/step\n"
          ]
        }
      ]
    },
    {
      "cell_type": "markdown",
      "source": [
        "we can print a training image (image and numpy array) and label image"
      ],
      "metadata": {
        "id": "3PvWKUnpdEud"
      }
    },
    {
      "cell_type": "code",
      "source": [
        "# we have 60,000 images so we can use 0 - 5999\n",
        "index = 0\n",
        "\n",
        "# setting num of rows when printing\n",
        "np.set_printoptions(linewidth = 320)\n",
        "\n",
        "#print the traininf label and image\n",
        "print(f\"labeled : {training_labels[index]}\")\n",
        "print(f\"IMAGE IN PIXELS ARRAY : {training_images[index]}\")"
      ],
      "metadata": {
        "colab": {
          "base_uri": "https://localhost:8080/"
        },
        "id": "c8MOOBA4dO4W",
        "outputId": "8134c647-cd29-4599-b316-ebfd357e3662"
      },
      "execution_count": 77,
      "outputs": [
        {
          "output_type": "stream",
          "name": "stdout",
          "text": [
            "labeled : 9\n",
            "IMAGE IN PIXELS ARRAY : [[  0   0   0   0   0   0   0   0   0   0   0   0   0   0   0   0   0   0   0   0   0   0   0   0   0   0   0   0]\n",
            " [  0   0   0   0   0   0   0   0   0   0   0   0   0   0   0   0   0   0   0   0   0   0   0   0   0   0   0   0]\n",
            " [  0   0   0   0   0   0   0   0   0   0   0   0   0   0   0   0   0   0   0   0   0   0   0   0   0   0   0   0]\n",
            " [  0   0   0   0   0   0   0   0   0   0   0   0   1   0   0  13  73   0   0   1   4   0   0   0   0   1   1   0]\n",
            " [  0   0   0   0   0   0   0   0   0   0   0   0   3   0  36 136 127  62  54   0   0   0   1   3   4   0   0   3]\n",
            " [  0   0   0   0   0   0   0   0   0   0   0   0   6   0 102 204 176 134 144 123  23   0   0   0   0  12  10   0]\n",
            " [  0   0   0   0   0   0   0   0   0   0   0   0   0   0 155 236 207 178 107 156 161 109  64  23  77 130  72  15]\n",
            " [  0   0   0   0   0   0   0   0   0   0   0   1   0  69 207 223 218 216 216 163 127 121 122 146 141  88 172  66]\n",
            " [  0   0   0   0   0   0   0   0   0   1   1   1   0 200 232 232 233 229 223 223 215 213 164 127 123 196 229   0]\n",
            " [  0   0   0   0   0   0   0   0   0   0   0   0   0 183 225 216 223 228 235 227 224 222 224 221 223 245 173   0]\n",
            " [  0   0   0   0   0   0   0   0   0   0   0   0   0 193 228 218 213 198 180 212 210 211 213 223 220 243 202   0]\n",
            " [  0   0   0   0   0   0   0   0   0   1   3   0  12 219 220 212 218 192 169 227 208 218 224 212 226 197 209  52]\n",
            " [  0   0   0   0   0   0   0   0   0   0   6   0  99 244 222 220 218 203 198 221 215 213 222 220 245 119 167  56]\n",
            " [  0   0   0   0   0   0   0   0   0   4   0   0  55 236 228 230 228 240 232 213 218 223 234 217 217 209  92   0]\n",
            " [  0   0   1   4   6   7   2   0   0   0   0   0 237 226 217 223 222 219 222 221 216 223 229 215 218 255  77   0]\n",
            " [  0   3   0   0   0   0   0   0   0  62 145 204 228 207 213 221 218 208 211 218 224 223 219 215 224 244 159   0]\n",
            " [  0   0   0   0  18  44  82 107 189 228 220 222 217 226 200 205 211 230 224 234 176 188 250 248 233 238 215   0]\n",
            " [  0  57 187 208 224 221 224 208 204 214 208 209 200 159 245 193 206 223 255 255 221 234 221 211 220 232 246   0]\n",
            " [  3 202 228 224 221 211 211 214 205 205 205 220 240  80 150 255 229 221 188 154 191 210 204 209 222 228 225   0]\n",
            " [ 98 233 198 210 222 229 229 234 249 220 194 215 217 241  65  73 106 117 168 219 221 215 217 223 223 224 229  29]\n",
            " [ 75 204 212 204 193 205 211 225 216 185 197 206 198 213 240 195 227 245 239 223 218 212 209 222 220 221 230  67]\n",
            " [ 48 203 183 194 213 197 185 190 194 192 202 214 219 221 220 236 225 216 199 206 186 181 177 172 181 205 206 115]\n",
            " [  0 122 219 193 179 171 183 196 204 210 213 207 211 210 200 196 194 191 195 191 198 192 176 156 167 177 210  92]\n",
            " [  0   0  74 189 212 191 175 172 175 181 185 188 189 188 193 198 204 209 210 210 211 188 188 194 192 216 170   0]\n",
            " [  2   0   0   0  66 200 222 237 239 242 246 243 244 221 220 193 191 179 182 182 181 176 166 168  99  58   0   0]\n",
            " [  0   0   0   0   0   0   0  40  61  44  72  41  35   0   0   0   0   0   0   0   0   0   0   0   0   0   0   0]\n",
            " [  0   0   0   0   0   0   0   0   0   0   0   0   0   0   0   0   0   0   0   0   0   0   0   0   0   0   0   0]\n",
            " [  0   0   0   0   0   0   0   0   0   0   0   0   0   0   0   0   0   0   0   0   0   0   0   0   0   0   0   0]]\n"
          ]
        }
      ]
    },
    {
      "cell_type": "markdown",
      "source": [
        "Trying another index"
      ],
      "metadata": {
        "id": "BsxS00d1ey9O"
      }
    },
    {
      "cell_type": "code",
      "source": [
        "index_x = 6000\n",
        "np.set_printoptions(linewidth = 320)\n",
        "print(f\"labeled : {training_labels[index_x]}\")\n",
        "print(f\"IMAGE IN PIXELS ARRAY : {training_images[index_x]}\")"
      ],
      "metadata": {
        "colab": {
          "base_uri": "https://localhost:8080/"
        },
        "id": "RhHwu8V0e1JN",
        "outputId": "87c607f3-ecbc-4930-9d02-b770efff69cb"
      },
      "execution_count": 78,
      "outputs": [
        {
          "output_type": "stream",
          "name": "stdout",
          "text": [
            "labeled : 8\n",
            "IMAGE IN PIXELS ARRAY : [[  0   0   0   0   0   0   3   0   0   0  48  73  96 110 115 110 115 107  90  72  50  25   0   0   1   1   0   0]\n",
            " [  0   0   0   1   0   5   0  15 185 243 244 247 245 245 244 247 246 247 250 251 246 247 227  42   0   1   0   0]\n",
            " [  0   0   0   0   4   0   4 220 105  56 114  73  81  99  76  38 136  68  18  82  73  11 129 240   0   0   1   0]\n",
            " [  0   0   1   0   1   0 139 190   8 174  79  63  70 119  48 110  30  55 139 147  50 135   0 227 108   0   0   0]\n",
            " [  0   0   1   0   0   0 203 213   2 113 173 102 111 182  63   6 143  45  72 255  62   0  81 227 182   0   0   0]\n",
            " [  0   0   1   0   0   0 214 190 202  71  64 113 109 157  39 191 255  29 174 198  74  40 113 234 182   0   0   0]\n",
            " [  0   0   0   1   0  26 204 174  20  49 177  45   0 172   0 221 227  18  44  80  76 120   0 197 195   0   0   0]\n",
            " [  0   0   0   0  15 133 197 217 134 126 219 105 241 239 117 156 155 144 147 168 141 182 255 214 197 138   0   0]\n",
            " [  0   0   0   5 178 235 194 206   0  40 122  48 170  14   0   0   0   0   2   1   0   0 151 231 210 194   0   0]\n",
            " [  0   0  82 147  32 210 189 241  16   0 245 231  56   0  39  29   9   8   7  23  42  22   0 216 209 146   0   0]\n",
            " [  0   0  46 255 161 108 217 160  12   9 207 255  47   5  29  26  68  50  64  58  20  42   0 211 208 205  36   0]\n",
            " [  0   0   0 249 197 112 205 185 205 213 211 225  52  10   3  96 242 220 241 201   0  17   0 208 202 239 202   0]\n",
            " [  0   0   0  59 146 248 188 197 227 221 212 255  53  11   1  78 228 207 224 171   6  43  10 197 204 238 173   0]\n",
            " [  0   0   0   0 203 255 185 177 211 213 206 255  54  10   6 103 236 224 224 229 255 255 255 217 199 255  86   0]\n",
            " [  0   0   0 255 252 252 185 180 213 211 209 255  54   8  30  31  61  44  50  45  32  55 250 219 199 233  16   0]\n",
            " [  0   0  61 248 184   0 196 206 208 217 207 255  56   7  44  30  19  17  15  17  21   0  63 248 212 156  23   0]\n",
            " [  0   0  87 253  70   0 236 200 222 213 202 255  62   7  44  26   9   9   7  22  45  39   0 194 235 143  39   0]\n",
            " [  0   0  34 255  40   0 243 201 217 210 203 255  62   8  33  43  74  57  73  64  22  40   0 210 208 156  90   0]\n",
            " [  0   0   0 235  69   0 252 210 215 213 206 255  63  22   7 119 242 224 243 227   0  43   0 210 205 167 131   0]\n",
            " [  0   0   0  77 145   0 249 246 221 215 206 255  72  24  11  96 225 204 223 182   0  43   0 210 203 174 154   0]\n",
            " [  0   0   0   0 174 164 212 237 224 216 213 255  57   0   2 128 250 228 247 236   0  40   0 210 197 181 162   0]\n",
            " [  0   0   1   0  22 247 233 230 233 234 230 249 167  86  20  42 138 108 127 103  15  43   0 202 211 172 118   0]\n",
            " [  0   0   2   0  40 242 228 226 225 230 232 231 254 236 221 138   8  19   6  19  45  32   0 208 186 188 108   0]\n",
            " [  0   0   2   0  40 209 188 168 151 180 186 190 194 197 226 167  19  47  38  21  13   2 136 213 171 232  43   0]\n",
            " [  0   0   4   0  42 221 203 169 174 192 204 210 211 212 205 154  92 101  96 100  87 155 235 204 214 128   0   0]\n",
            " [  0   0   2   0  51 211 189 157 175 189 200 204 204 212 184 235 245 238 238 241 245 236 195  95  19   0   0   0]\n",
            " [  0   0   6   0  72 253 242 191 190 203 212 214 211 214 215 195 196 197 192 173 135  71   6   0   0   0   0   0]\n",
            " [  0   0   1   0   0  35  91 102 132 162 176 183 188 192 179   0   0   0   0   0   0   0   0   2   4   3   0   0]]\n"
          ]
        }
      ]
    },
    {
      "cell_type": "code",
      "source": [
        "# visualize it using colormap\n",
        "plt.imshow(training_images[index])\n",
        "plt.colorbar()\n",
        "plt.show()"
      ],
      "metadata": {
        "colab": {
          "base_uri": "https://localhost:8080/",
          "height": 430
        },
        "id": "Q6jZbv09eQZK",
        "outputId": "34a61cfe-1214-4333-821e-3d01e2dfc7ca"
      },
      "execution_count": 79,
      "outputs": [
        {
          "output_type": "display_data",
          "data": {
            "text/plain": [
              "<Figure size 640x480 with 2 Axes>"
            ],
            "image/png": "[encoded data removed]"
          },
          "metadata": {}
        }
      ]
    },
    {
      "cell_type": "code",
      "source": [
        "plt.imshow(training_images[index_x])\n",
        "plt.colorbar()\n",
        "plt.show()"
      ],
      "metadata": {
        "colab": {
          "base_uri": "https://localhost:8080/",
          "height": 430
        },
        "id": "VHBuqTcvfM8m",
        "outputId": "33cb6a20-d896-4aa2-9937-38f95fda5530"
      },
      "execution_count": 80,
      "outputs": [
        {
          "output_type": "display_data",
          "data": {
            "text/plain": [
              "<Figure size 640x480 with 2 Axes>"
            ],
            "image/png": "[encoded data removed]"
          },
          "metadata": {}
        }
      ]
    },
    {
      "cell_type": "markdown",
      "source": [
        "# Training Model"
      ],
      "metadata": {
        "id": "XFbIvXSKLl9D"
      }
    },
    {
      "cell_type": "markdown",
      "source": [
        "Changing data to be between 0 and 1 by dividing it by 255 for better nn work\n",
        "for the first layer"
      ],
      "metadata": {
        "id": "c2SBEcaSjIhj"
      }
    },
    {
      "cell_type": "code",
      "source": [
        "training_images = training_images / 255.0\n",
        "test_images = test_images / 255.0"
      ],
      "metadata": {
        "id": "Zhk67YTUjR75"
      },
      "execution_count": 81,
      "outputs": []
    },
    {
      "cell_type": "markdown",
      "source": [
        "the first layer in your network should be the same shape as your data. Right now our data is 28x28 images, and 28 layers of 28 neurons would be infeasible, so it makes more sense to 'flatten' that 28,28 into a 784x1"
      ],
      "metadata": {
        "id": "ewGpHoWgcgKO"
      }
    },
    {
      "cell_type": "markdown",
      "source": [
        "ReLU effectively means:\n",
        "\n",
        "  **if x > 0:**\n",
        "   - **return x**\n",
        "\n",
        " **else:**\n",
        "   - **return 0**"
      ],
      "metadata": {
        "id": "PauyzlgzISG8"
      }
    },
    {
      "cell_type": "code",
      "source": [
        "# Build classification model\n",
        "model = tf.keras.Sequential([\n",
        "    tf.keras.Input(shape = (28,28)),\n",
        "    tf.keras.layers.Flatten(), # takes the square of 28 x 28 and turns it into 1D\n",
        "    tf.keras.layers.Dense(128, activation = 'relu'),\n",
        "    tf.keras.layers.Dense(10, activation = 'softmax') # we need 10 clusters\n",
        "])"
      ],
      "metadata": {
        "id": "asaFX3E0kFfE"
      },
      "execution_count": 82,
      "outputs": []
    },
    {
      "cell_type": "markdown",
      "source": [
        "it takes longer time but more accurate"
      ],
      "metadata": {
        "id": "TCOAfxnKcJzP"
      }
    },
    {
      "cell_type": "code",
      "source": [
        "# lets try different value for the dense layer with 512 neurons\n",
        "model = tf.keras.Sequential([\n",
        "    tf.keras.Input(shape = (28,28)),\n",
        "    tf.keras.layers.Flatten(),\n",
        "     tf.keras.layers.Dense(1024, activation = 'relu'),\n",
        "    tf.keras.layers.Dense(10, activation = 'softmax')\n",
        "])"
      ],
      "metadata": {
        "id": "XIzXQn75Qejc"
      },
      "execution_count": 83,
      "outputs": []
    },
    {
      "cell_type": "markdown",
      "source": [
        "# Softmax"
      ],
      "metadata": {
        "id": "Np2Ct83tKsdV"
      }
    },
    {
      "cell_type": "markdown",
      "source": [
        "Try to understand more about softmax"
      ],
      "metadata": {
        "id": "KWsFLpy4yDLP"
      }
    },
    {
      "cell_type": "code",
      "source": [
        "# Declare sample inputs and convert to a tensor\n",
        "inputs = np.array([[1,8,3],\n",
        "                   [4,5,6],\n",
        "                   [7,8,9]\n",
        "                  ])\n",
        "inputs = tf.convert_to_tensor(inputs)"
      ],
      "metadata": {
        "id": "T9jACBOayHEQ"
      },
      "execution_count": 84,
      "outputs": []
    },
    {
      "cell_type": "code",
      "source": [
        "print(f\"the input to softmax funtions :{inputs}\")\n",
        "print(\"#########################\")\n",
        "print(f\"the input to softmax funtions in numpy:{inputs.numpy()}\")"
      ],
      "metadata": {
        "colab": {
          "base_uri": "https://localhost:8080/"
        },
        "id": "3NrGtV_CKShM",
        "outputId": "9e0d20c8-ac06-4d6d-affd-2e05e77ad6ed"
      },
      "execution_count": 85,
      "outputs": [
        {
          "output_type": "stream",
          "name": "stdout",
          "text": [
            "the input to softmax funtions :[[1 8 3]\n",
            " [4 5 6]\n",
            " [7 8 9]]\n",
            "#########################\n",
            "the input to softmax funtions in numpy:[[1 8 3]\n",
            " [4 5 6]\n",
            " [7 8 9]]\n"
          ]
        }
      ]
    },
    {
      "cell_type": "code",
      "source": [
        "# feed the input to the softmax function\n",
        "inputs = tf.cast(inputs, dtype=tf.float32) # changed data_type\n",
        "outputs = tf.keras.activations.softmax(inputs)"
      ],
      "metadata": {
        "id": "sAscrW7rLHZt"
      },
      "execution_count": 86,
      "outputs": []
    },
    {
      "cell_type": "code",
      "source": [
        "# get sum of all values after softmax o/p\n",
        "sum = tf.reduce_sum(outputs)\n",
        "print(f\"sum of outputs : {outputs}\")"
      ],
      "metadata": {
        "colab": {
          "base_uri": "https://localhost:8080/"
        },
        "id": "CHCFbOUpMDC9",
        "outputId": "02cb32f5-ab4d-4834-c3d0-68d88d76eefd"
      },
      "execution_count": 87,
      "outputs": [
        {
          "output_type": "stream",
          "name": "stdout",
          "text": [
            "sum of outputs : [[9.0495922e-04 9.9240828e-01 6.6867946e-03]\n",
            " [9.0030573e-02 2.4472848e-01 6.6524094e-01]\n",
            " [9.0030573e-02 2.4472848e-01 6.6524094e-01]]\n"
          ]
        }
      ]
    },
    {
      "cell_type": "code",
      "source": [
        "# get the index with highest value  # like the most num of pizza slices\n",
        "predicting = np.argmax(outputs)\n",
        "print(f\"the class with highest probability is : {predicting}\")"
      ],
      "metadata": {
        "colab": {
          "base_uri": "https://localhost:8080/"
        },
        "id": "wT-Qvp6nM1hv",
        "outputId": "45e767ae-5852-45e2-8b4c-24e25eb267da"
      },
      "execution_count": 88,
      "outputs": [
        {
          "output_type": "stream",
          "name": "stdout",
          "text": [
            "the class with highest probability is : 1\n"
          ]
        }
      ]
    },
    {
      "cell_type": "markdown",
      "source": [
        "# Compile & Evaluate"
      ],
      "metadata": {
        "id": "BC6ALxYVLCGp"
      }
    },
    {
      "cell_type": "code",
      "source": [
        "model.compile(optimizer = 'adam',\n",
        "              loss = 'sparse_categorical_crossentropy',\n",
        "              metrics = ['accuracy'])\n",
        "model.fit(training_images, training_labels, epochs = 5, callbacks = [callbacks])"
      ],
      "metadata": {
        "colab": {
          "base_uri": "https://localhost:8080/"
        },
        "id": "roSAyttvlGEp",
        "outputId": "ff5ada51-ddf7-4e88-e403-c1e16bc226d7"
      },
      "execution_count": 89,
      "outputs": [
        {
          "output_type": "stream",
          "name": "stdout",
          "text": [
            "Epoch 1/5\n",
            "\u001b[1m1872/1875\u001b[0m \u001b[32m━━━━━━━━━━━━━━━━━━━\u001b[0m\u001b[37m━\u001b[0m \u001b[1m0s\u001b[0m 15ms/step - accuracy: 0.7958 - loss: 0.5828\n",
            " Reached 60% accuracy so cancelling training!\n",
            "\u001b[1m1875/1875\u001b[0m \u001b[32m━━━━━━━━━━━━━━━━━━━━\u001b[0m\u001b[37m\u001b[0m \u001b[1m30s\u001b[0m 15ms/step - accuracy: 0.7958 - loss: 0.5826\n"
          ]
        },
        {
          "output_type": "execute_result",
          "data": {
            "text/plain": [
              "<keras.src.callbacks.history.History at 0x7f7a6fdd9e10>"
            ]
          },
          "metadata": {},
          "execution_count": 89
        }
      ]
    },
    {
      "cell_type": "markdown",
      "source": [
        "Evaluation"
      ],
      "metadata": {
        "id": "-Dfz7wLal6mp"
      }
    },
    {
      "cell_type": "code",
      "source": [
        "# evaluate the model on unseen data\n",
        "model.evaluate(test_images, test_labels)"
      ],
      "metadata": {
        "colab": {
          "base_uri": "https://localhost:8080/"
        },
        "id": "Sq291rMRl8_-",
        "outputId": "c5e00d29-2422-48e4-e4b3-1be63de0cf40"
      },
      "execution_count": 90,
      "outputs": [
        {
          "output_type": "stream",
          "name": "stdout",
          "text": [
            "\u001b[1m313/313\u001b[0m \u001b[32m━━━━━━━━━━━━━━━━━━━━\u001b[0m\u001b[37m\u001b[0m \u001b[1m1s\u001b[0m 3ms/step - accuracy: 0.8445 - loss: 0.4464\n"
          ]
        },
        {
          "output_type": "execute_result",
          "data": {
            "text/plain": [
              "[0.4596402943134308, 0.8391000032424927]"
            ]
          },
          "metadata": {},
          "execution_count": 90
        }
      ]
    },
    {
      "cell_type": "markdown",
      "source": [
        "# Model Prediction"
      ],
      "metadata": {
        "id": "oqZ-GaAKPOp3"
      }
    },
    {
      "cell_type": "code",
      "source": [
        "prediction = model.predict(test_images)\n",
        "print(prediction[8807])"
      ],
      "metadata": {
        "colab": {
          "base_uri": "https://localhost:8080/"
        },
        "id": "SeeuGZhM5KCX",
        "outputId": "66321a23-bbe5-47e8-ca33-72058b12f32e"
      },
      "execution_count": 91,
      "outputs": [
        {
          "output_type": "stream",
          "name": "stdout",
          "text": [
            "\u001b[1m313/313\u001b[0m \u001b[32m━━━━━━━━━━━━━━━━━━━━\u001b[0m\u001b[37m\u001b[0m \u001b[1m1s\u001b[0m 3ms/step\n",
            "[2.3592700e-05 9.9600083e-01 1.8380487e-06 3.9562485e-03 1.3612839e-05 1.6243007e-07 2.0557939e-06 6.2821761e-09 1.4414001e-06 2.4892515e-07]\n"
          ]
        }
      ]
    },
    {
      "cell_type": "code",
      "source": [
        "print(test_labels[8807])\n",
        "print(\"############################\")\n",
        "print(f\"prediction is : {prediction}\")"
      ],
      "metadata": {
        "colab": {
          "base_uri": "https://localhost:8080/"
        },
        "id": "Ikd-XDY_Pj0y",
        "outputId": "d5186839-6dd7-470d-c939-e7a2c09fcfc7"
      },
      "execution_count": 92,
      "outputs": [
        {
          "output_type": "stream",
          "name": "stdout",
          "text": [
            "1\n",
            "############################\n",
            "prediction is : [[7.6763672e-06 2.5417205e-07 2.5020154e-06 ... 4.3365136e-01 3.3096508e-03 4.8418614e-01]\n",
            " [1.1043646e-03 8.2741796e-09 9.9547118e-01 ... 1.3675466e-09 5.4360000e-05 3.0196423e-09]\n",
            " [2.7242138e-06 9.9999708e-01 5.2910649e-09 ... 4.5442083e-12 6.7205796e-09 5.4337906e-12]\n",
            " ...\n",
            " [7.9194688e-05 9.4690824e-09 4.5246175e-06 ... 3.4848270e-07 9.9981809e-01 3.3316237e-08]\n",
            " [1.2840134e-07 9.9999410e-01 4.1393271e-09 ... 3.7108630e-10 1.2076616e-08 7.5390405e-09]\n",
            " [8.3797373e-04 4.6294452e-05 3.9310186e-04 ... 1.3598077e-01 6.5286517e-02 2.5086727e-03]]\n"
          ]
        }
      ]
    },
    {
      "cell_type": "markdown",
      "source": [
        "Confusion Matrix: Visualize the model's performance by showing the number of true positive, true negative, false positive, and false negative predictions.\n",
        "\n",
        "Classification Report: Provide a detailed report with precision, recall, F1-score, and support for each class."
      ],
      "metadata": {
        "id": "gHNGVpcE8l5y"
      }
    },
    {
      "cell_type": "code",
      "source": [
        "# Convert predictions to discrete class labels using argmax\n",
        "# prediction is a matrix of shape (num_samples, num_classes)\n",
        "# argmax along axis 1 gives the index of the highest probability for each sample\n",
        "\n",
        "predict_classes = np.argmax(prediction, axis = 1)"
      ],
      "metadata": {
        "id": "giSkZ4py9Dwq"
      },
      "execution_count": 93,
      "outputs": []
    },
    {
      "cell_type": "code",
      "source": [
        "from sklearn.metrics import confusion_matrix, classification_report\n",
        "cm = confusion_matrix(test_labels, predict_classes)"
      ],
      "metadata": {
        "id": "bFvfuEHb8MGW"
      },
      "execution_count": 94,
      "outputs": []
    },
    {
      "cell_type": "markdown",
      "source": [
        "**Precision**\n",
        "\n",
        "*   Example: For class 0, a precision of 0.75 means that 75% of the instances predicted as class 0 are correctly classified.\n",
        "\n",
        "---\n",
        "\n",
        "**Recall**\n",
        "\n",
        "\n",
        "*   Example: For class 0, a recall of 0.88 means that 88% of all true class 0 instances were correctly identified by the model.\n",
        "\n",
        "\n",
        "\n",
        "---\n",
        "**F1-score**\n",
        "\n",
        "\n",
        "*   Example: For class 0, an F1-score of 0.81 indicates a good balance between precision and recall.\n",
        "\n",
        "\n",
        "---\n",
        "\n",
        "**Support**\n",
        "\n",
        "\n",
        "*   Example: For class 0, the support is 1000, meaning there are 1000 samples of class 0 in the dataset.\n",
        "\n",
        "\n"
      ],
      "metadata": {
        "id": "fFD6JJmz-R3_"
      }
    },
    {
      "cell_type": "markdown",
      "source": [
        "\n",
        "\n",
        "> **Macro Average**: Every team is treated equally when calculating the overall score, even if some teams are much bigger. A score of 0.86 out of 1 means all teams did well on average.\n",
        "\n",
        "\n",
        "\n",
        "> **Weighted Average**: Bigger teams have more influence on the overall score. A score of 0.86 out of 1 means the overall performance is still strong, even when team size differences are considered.\n",
        "\n",
        "\n",
        "\n"
      ],
      "metadata": {
        "id": "YsdMQE1rCoce"
      }
    },
    {
      "cell_type": "code",
      "source": [
        "print(classification_report(test_labels, predict_classes))"
      ],
      "metadata": {
        "colab": {
          "base_uri": "https://localhost:8080/"
        },
        "id": "DXk43rAR8rMO",
        "outputId": "622a1e21-572e-43ce-b064-3271e74c368b"
      },
      "execution_count": 95,
      "outputs": [
        {
          "output_type": "stream",
          "name": "stdout",
          "text": [
            "              precision    recall  f1-score   support\n",
            "\n",
            "           0       0.73      0.91      0.81      1000\n",
            "           1       0.94      0.97      0.96      1000\n",
            "           2       0.73      0.78      0.75      1000\n",
            "           3       0.92      0.79      0.85      1000\n",
            "           4       0.69      0.82      0.75      1000\n",
            "           5       0.98      0.90      0.94      1000\n",
            "           6       0.83      0.38      0.52      1000\n",
            "           7       0.85      0.98      0.91      1000\n",
            "           8       0.86      0.98      0.92      1000\n",
            "           9       0.94      0.87      0.91      1000\n",
            "\n",
            "    accuracy                           0.84     10000\n",
            "   macro avg       0.85      0.84      0.83     10000\n",
            "weighted avg       0.85      0.84      0.83     10000\n",
            "\n"
          ]
        }
      ]
    }
  ]
}