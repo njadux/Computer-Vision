{
  "nbformat": 4,
  "nbformat_minor": 0,
  "metadata": {
    "colab": {
      "provenance": [],
      "include_colab_link": true
    },
    "kernelspec": {
      "name": "python3",
      "display_name": "Python 3"
    },
    "language_info": {
      "name": "python"
    }
  },
  "cells": [
    {
      "cell_type": "markdown",
      "metadata": {
        "id": "view-in-github",
        "colab_type": "text"
      },
      "source": [
        "<a href=\"https://colab.research.google.com/github/VUGUSTIE/Computer-Vision/blob/main/text_extraction.ipynb\" target=\"_parent\"><img src=\"https://colab.research.google.com/assets/colab-badge.svg\" alt=\"Open In Colab\"/></a>"
      ]
    },
    {
      "cell_type": "code",
      "execution_count": null,
      "metadata": {
        "colab": {
          "base_uri": "https://localhost:8080/"
        },
        "id": "9qavwRQDV1jk",
        "outputId": "e10a90f2-22c8-4246-ef01-f796295ced18"
      },
      "outputs": [
        {
          "output_type": "stream",
          "name": "stdout",
          "text": [
            "Requirement already satisfied: pytesseract in /usr/local/lib/python3.10/dist-packages (0.3.10)\n",
            "Requirement already satisfied: packaging>=21.3 in /usr/local/lib/python3.10/dist-packages (from pytesseract) (24.0)\n",
            "Requirement already satisfied: Pillow>=8.0.0 in /usr/local/lib/python3.10/dist-packages (from pytesseract) (9.4.0)\n"
          ]
        }
      ],
      "source": [
        "!pip install pytesseract"
      ]
    },
    {
      "cell_type": "code",
      "source": [
        "!sudo apt install tesseract-ocr"
      ],
      "metadata": {
        "colab": {
          "base_uri": "https://localhost:8080/"
        },
        "id": "xIdxgXbqZVD2",
        "outputId": "0db4567b-3834-4121-8831-1466da3b71f4"
      },
      "execution_count": null,
      "outputs": [
        {
          "output_type": "stream",
          "name": "stdout",
          "text": [
            "Reading package lists... Done\n",
            "Building dependency tree... Done\n",
            "Reading state information... Done\n",
            "tesseract-ocr is already the newest version (4.1.1-2.1build1).\n",
            "0 upgraded, 0 newly installed, 0 to remove and 45 not upgraded.\n"
          ]
        }
      ]
    },
    {
      "cell_type": "code",
      "source": [
        "import pytesseract\n",
        "from google.colab import drive\n",
        "from PIL import Image"
      ],
      "metadata": {
        "id": "wgha0FGrWHOA"
      },
      "execution_count": null,
      "outputs": []
    },
    {
      "cell_type": "code",
      "source": [
        "# Mount Google Drive\n",
        "drive.mount('/content/drive')\n",
        "image_path = '/content/drive/MyDrive/img.jpeg'\n",
        "\n",
        "image = Image.open(image_path)"
      ],
      "metadata": {
        "colab": {
          "base_uri": "https://localhost:8080/"
        },
        "id": "jlnByboSWSx8",
        "outputId": "1c2d8638-0be4-4532-b631-482f321c9aea"
      },
      "execution_count": null,
      "outputs": [
        {
          "output_type": "stream",
          "name": "stdout",
          "text": [
            "Drive already mounted at /content/drive; to attempt to forcibly remount, call drive.mount(\"/content/drive\", force_remount=True).\n"
          ]
        }
      ]
    },
    {
      "cell_type": "code",
      "source": [
        "text = pytesseract.image_to_string(image)\n",
        "print(text)"
      ],
      "metadata": {
        "colab": {
          "base_uri": "https://localhost:8080/"
        },
        "id": "oJl2WTpGXDFu",
        "outputId": "12e2741c-23aa-40f3-c95a-4c581a0cad96"
      },
      "execution_count": null,
      "outputs": [
        {
          "output_type": "stream",
          "name": "stdout",
          "text": [
            "GDG ADEN\n",
            "\n",
            "   \n",
            "\n",
            "BEYOND IMITATION,\n",
            "TOWARDS A NEW ERA OF AL @}\n",
            "\n",
            "NUHA JADU\n",
            "\n",
            "‘Women Techmakers (WTM) Ambassador,\n",
            "Creator @Google lo at Amsterdam,\n",
            "Google Developer Student Club (DSC),\n",
            "Egypt Facilitator, and\n",
            "\n",
            "Huawei ICT Ambassador.\n",
            "\n",
            " \n",
            "\f\n"
          ]
        }
      ]
    },
    {
      "cell_type": "code",
      "source": [
        "# Improve accuracy by providing the language of the text\n",
        "text = pytesseract.image_to_string(image, lang='eng')\n",
        "\n",
        "# Improve accuracy by specifying the DPI of the image\n",
        "# the higher dpi the higher accuracy\n",
        "text = pytesseract.image_to_string(image, lang='eng', config='--dpi 600')"
      ],
      "metadata": {
        "id": "ev8hTlWZZg9L"
      },
      "execution_count": null,
      "outputs": []
    },
    {
      "cell_type": "code",
      "source": [
        "#storing extracted text\n",
        "with open('extracted_text.txt', 'w') as f:\n",
        "    f.write(text)"
      ],
      "metadata": {
        "id": "HBz9aGWJZnTS"
      },
      "execution_count": null,
      "outputs": []
    },
    {
      "cell_type": "code",
      "source": [
        "print(text)"
      ],
      "metadata": {
        "colab": {
          "base_uri": "https://localhost:8080/"
        },
        "id": "i0g7Z46fZomv",
        "outputId": "939e0d65-c22a-43ea-9e0d-0199204ca230"
      },
      "execution_count": null,
      "outputs": [
        {
          "output_type": "stream",
          "name": "stdout",
          "text": [
            "GDG ADEN\n",
            "\n",
            "   \n",
            "\n",
            "BEYOND IMITATION,\n",
            "TOWARDS A NEW ERA OF AL @}\n",
            "\n",
            "NUHA JADU\n",
            "\n",
            "‘Women Techmakers (WTM) Ambassador,\n",
            "Creator @Google lo at Amsterdam,\n",
            "Google Developer Student Club (DSC),\n",
            "Egypt Facilitator, and\n",
            "\n",
            "Huawei ICT Ambassador.\n",
            "\n",
            " \n",
            "\f\n"
          ]
        }
      ]
    },
    {
      "cell_type": "markdown",
      "source": [
        "# **Color Intensity Extraction**"
      ],
      "metadata": {
        "id": "ho1IooH_dq6w"
      }
    },
    {
      "cell_type": "code",
      "source": [
        "color = Image.open(\"/content/drive/MyDrive/mazen.jpg\")"
      ],
      "metadata": {
        "id": "x6f_LTlodvTa"
      },
      "execution_count": null,
      "outputs": []
    },
    {
      "cell_type": "markdown",
      "source": [
        "indicate the intensity of each of the three primary colors (red, green, and blue) in the pixel at the specified coordinates"
      ],
      "metadata": {
        "id": "DBfOsoLWf4w7"
      }
    },
    {
      "cell_type": "code",
      "source": [
        "# Define the coordinates\n",
        "x_coordinate = -20\n",
        "y_coordinate = 100\n",
        "\n",
        "# Get the pixel value of a specific point\n",
        "pixel_value = color.getpixel((x_coordinate, y_coordinate))\n",
        "\n",
        "# Extract the RGB values\n",
        "red, green, blue = pixel_value\n",
        "\n",
        "# Print the color information\n",
        "print(f\"Red: {red}, Green: {green}, Blue: {blue}\")"
      ],
      "metadata": {
        "colab": {
          "base_uri": "https://localhost:8080/"
        },
        "id": "OMuKmb2OeHcl",
        "outputId": "e37f152a-8f6c-4412-aff8-62127122cb38"
      },
      "execution_count": null,
      "outputs": [
        {
          "output_type": "stream",
          "name": "stdout",
          "text": [
            "Red: 216, Green: 204, Blue: 208\n"
          ]
        }
      ]
    }
  ]
}